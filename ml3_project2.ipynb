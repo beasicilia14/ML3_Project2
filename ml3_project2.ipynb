{
 "cells": [
  {
   "cell_type": "markdown",
   "metadata": {},
   "source": [
    "### **Práctica 2 - Machine Learning III**"
   ]
  },
  {
   "cell_type": "markdown",
   "metadata": {},
   "source": [
    "**Objetivo**: \n",
    "1. Analizar el conjunto de datos. \n",
    "2. Crear un sistema de recomendación de artistas para usuarios.\n",
    "   \n",
    "**Entregar**: Este cuaderno de jupyter con el trabajo hecho y comentado.\n",
    "\n",
    "**Datos**: \n",
    "\n",
    "Los datos suministrados ya han sido procesados, limpiados y estructurados para simplificar su manejo y análisis. \n",
    "\n",
    "Para aquellos interesados en explorar y manipular el conjunto de datos original, así como entender la estructura, podéis descargarlo directamente aquí: \n",
    "\n",
    "https://grouplens.org/datasets/hetrec-2011/."
   ]
  },
  {
   "cell_type": "code",
   "execution_count": 2,
   "metadata": {},
   "outputs": [],
   "source": [
    "import pandas as pd \n",
    "\n",
    "artists = pd.read_csv('./hetrec2011-lastfm-2k/artists-v2.dat', header=0, sep='\\t')\n",
    "user_tag_artist = pd.read_csv('./hetrec2011-lastfm-2k/user_taggedartists.dat', header=0, sep='\\t')\n",
    "tags = pd.read_csv('hetrec2011-lastfm-2k/tags.dat', header=0, sep='\\t', encoding='latin-1')\n",
    "users = pd.read_csv('hetrec2011-lastfm-2k/user_artists.dat',header=0, sep='\\t')\n"
   ]
  },
  {
   "cell_type": "code",
   "execution_count": 3,
   "metadata": {},
   "outputs": [
    {
     "data": {
      "text/html": [
       "<div>\n",
       "<style scoped>\n",
       "    .dataframe tbody tr th:only-of-type {\n",
       "        vertical-align: middle;\n",
       "    }\n",
       "\n",
       "    .dataframe tbody tr th {\n",
       "        vertical-align: top;\n",
       "    }\n",
       "\n",
       "    .dataframe thead th {\n",
       "        text-align: right;\n",
       "    }\n",
       "</style>\n",
       "<table border=\"1\" class=\"dataframe\">\n",
       "  <thead>\n",
       "    <tr style=\"text-align: right;\">\n",
       "      <th></th>\n",
       "      <th>artistID</th>\n",
       "      <th>name</th>\n",
       "      <th>freq</th>\n",
       "      <th>listeners</th>\n",
       "    </tr>\n",
       "  </thead>\n",
       "  <tbody>\n",
       "    <tr>\n",
       "      <th>0</th>\n",
       "      <td>89</td>\n",
       "      <td>Lady Gaga</td>\n",
       "      <td>611</td>\n",
       "      <td>3798959</td>\n",
       "    </tr>\n",
       "    <tr>\n",
       "      <th>1</th>\n",
       "      <td>289</td>\n",
       "      <td>Britney Spears</td>\n",
       "      <td>522</td>\n",
       "      <td>3243214</td>\n",
       "    </tr>\n",
       "    <tr>\n",
       "      <th>2</th>\n",
       "      <td>288</td>\n",
       "      <td>Rihanna</td>\n",
       "      <td>484</td>\n",
       "      <td>4542147</td>\n",
       "    </tr>\n",
       "    <tr>\n",
       "      <th>3</th>\n",
       "      <td>227</td>\n",
       "      <td>The Beatles</td>\n",
       "      <td>480</td>\n",
       "      <td>3658694</td>\n",
       "    </tr>\n",
       "    <tr>\n",
       "      <th>4</th>\n",
       "      <td>300</td>\n",
       "      <td>Katy Perry</td>\n",
       "      <td>473</td>\n",
       "      <td>3721531</td>\n",
       "    </tr>\n",
       "  </tbody>\n",
       "</table>\n",
       "</div>"
      ],
      "text/plain": [
       "   artistID            name  freq  listeners\n",
       "0        89       Lady Gaga   611    3798959\n",
       "1       289  Britney Spears   522    3243214\n",
       "2       288         Rihanna   484    4542147\n",
       "3       227     The Beatles   480    3658694\n",
       "4       300      Katy Perry   473    3721531"
      ]
     },
     "execution_count": 3,
     "metadata": {},
     "output_type": "execute_result"
    }
   ],
   "source": [
    "artists.head()"
   ]
  }
 ],
 "metadata": {
  "kernelspec": {
   "display_name": "envml3",
   "language": "python",
   "name": "python3"
  },
  "language_info": {
   "codemirror_mode": {
    "name": "ipython",
    "version": 3
   },
   "file_extension": ".py",
   "mimetype": "text/x-python",
   "name": "python",
   "nbconvert_exporter": "python",
   "pygments_lexer": "ipython3",
   "version": "3.10.11"
  }
 },
 "nbformat": 4,
 "nbformat_minor": 2
}
