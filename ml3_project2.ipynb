{
 "cells": [
  {
   "cell_type": "markdown",
   "metadata": {},
   "source": [
    "### **Práctica 2 - Machine Learning III**"
   ]
  },
  {
   "cell_type": "markdown",
   "metadata": {},
   "source": [
    "**Objetivo**: \n",
    "1. Analizar el conjunto de datos. \n",
    "2. Crear un sistema de recomendación de artistas para usuarios.\n",
    "   \n",
    "**Entregar**: Este cuaderno de jupyter con el trabajo hecho y comentado.\n",
    "\n",
    "**Datos**: \n",
    "\n",
    "Los datos suministrados ya han sido procesados, limpiados y estructurados para simplificar su manejo y análisis. \n",
    "\n",
    "Para aquellos interesados en explorar y manipular el conjunto de datos original, así como entender la estructura, podéis descargarlo directamente aquí: \n",
    "\n",
    "https://grouplens.org/datasets/hetrec-2011/."
   ]
  },
  {
   "cell_type": "code",
   "execution_count": 1,
   "metadata": {},
   "outputs": [],
   "source": [
    "### ARCHIVOS DE DATOS DISPONIBLES: \n",
    "#1. artists.dat: info de los artistas que escuchan y etiquetan (tag) los users\n",
    "#2. tags.dat: info de los tags que se pueden asignar a los artistas\n",
    "#3. user_artists.dat: info de los artistas que escuchan los usuarios\n",
    "#4. user_friends.dat: info de los amigos de los usuarios\n",
    "#5. user_taggedartists.dat: tags que los usuarios asignan a los artistas\n",
    "#6. user_taggedartists-timestamps.dat: igual que el anterior pero con timestamps"
   ]
  },
  {
   "cell_type": "code",
   "execution_count": 2,
   "metadata": {},
   "outputs": [],
   "source": [
    "import numpy as np\n",
    "import pandas as pd\n",
    "import seaborn as sns\n",
    "import matplotlib.pyplot as plt"
   ]
  },
  {
   "cell_type": "code",
   "execution_count": 3,
   "metadata": {},
   "outputs": [],
   "source": [
    "artists = pd.read_csv('./hetrec2011-lastfm-2k/artists-v2.dat', header=0, sep='\\t')\n",
    "user_tag_artist = pd.read_csv('./hetrec2011-lastfm-2k/user_taggedartists.dat', header=0, sep='\\t')\n",
    "tags = pd.read_csv('hetrec2011-lastfm-2k/tags.dat', header=0, sep='\\t', encoding='latin-1')\n",
    "users = pd.read_csv('hetrec2011-lastfm-2k/user_artists.dat',header=0, sep='\\t')\n"
   ]
  },
  {
   "cell_type": "code",
   "execution_count": 3,
   "metadata": {},
   "outputs": [
    {
     "data": {
      "text/html": [
       "<div>\n",
       "<style scoped>\n",
       "    .dataframe tbody tr th:only-of-type {\n",
       "        vertical-align: middle;\n",
       "    }\n",
       "\n",
       "    .dataframe tbody tr th {\n",
       "        vertical-align: top;\n",
       "    }\n",
       "\n",
       "    .dataframe thead th {\n",
       "        text-align: right;\n",
       "    }\n",
       "</style>\n",
       "<table border=\"1\" class=\"dataframe\">\n",
       "  <thead>\n",
       "    <tr style=\"text-align: right;\">\n",
       "      <th></th>\n",
       "      <th>artistID</th>\n",
       "      <th>name</th>\n",
       "      <th>freq</th>\n",
       "      <th>listeners</th>\n",
       "    </tr>\n",
       "  </thead>\n",
       "  <tbody>\n",
       "    <tr>\n",
       "      <th>0</th>\n",
       "      <td>89</td>\n",
       "      <td>Lady Gaga</td>\n",
       "      <td>611</td>\n",
       "      <td>3798959</td>\n",
       "    </tr>\n",
       "    <tr>\n",
       "      <th>1</th>\n",
       "      <td>289</td>\n",
       "      <td>Britney Spears</td>\n",
       "      <td>522</td>\n",
       "      <td>3243214</td>\n",
       "    </tr>\n",
       "    <tr>\n",
       "      <th>2</th>\n",
       "      <td>288</td>\n",
       "      <td>Rihanna</td>\n",
       "      <td>484</td>\n",
       "      <td>4542147</td>\n",
       "    </tr>\n",
       "    <tr>\n",
       "      <th>3</th>\n",
       "      <td>227</td>\n",
       "      <td>The Beatles</td>\n",
       "      <td>480</td>\n",
       "      <td>3658694</td>\n",
       "    </tr>\n",
       "    <tr>\n",
       "      <th>4</th>\n",
       "      <td>300</td>\n",
       "      <td>Katy Perry</td>\n",
       "      <td>473</td>\n",
       "      <td>3721531</td>\n",
       "    </tr>\n",
       "  </tbody>\n",
       "</table>\n",
       "</div>"
      ],
      "text/plain": [
       "   artistID            name  freq  listeners\n",
       "0        89       Lady Gaga   611    3798959\n",
       "1       289  Britney Spears   522    3243214\n",
       "2       288         Rihanna   484    4542147\n",
       "3       227     The Beatles   480    3658694\n",
       "4       300      Katy Perry   473    3721531"
      ]
     },
     "execution_count": 3,
     "metadata": {},
     "output_type": "execute_result"
    }
   ],
   "source": [
    "#Info artistas\n",
    "artists.head()"
   ]
  },
  {
   "cell_type": "code",
   "execution_count": 8,
   "metadata": {},
   "outputs": [
    {
     "data": {
      "text/html": [
       "<div>\n",
       "<style scoped>\n",
       "    .dataframe tbody tr th:only-of-type {\n",
       "        vertical-align: middle;\n",
       "    }\n",
       "\n",
       "    .dataframe tbody tr th {\n",
       "        vertical-align: top;\n",
       "    }\n",
       "\n",
       "    .dataframe thead th {\n",
       "        text-align: right;\n",
       "    }\n",
       "</style>\n",
       "<table border=\"1\" class=\"dataframe\">\n",
       "  <thead>\n",
       "    <tr style=\"text-align: right;\">\n",
       "      <th></th>\n",
       "      <th>userID</th>\n",
       "      <th>artistID</th>\n",
       "      <th>weight</th>\n",
       "    </tr>\n",
       "  </thead>\n",
       "  <tbody>\n",
       "    <tr>\n",
       "      <th>0</th>\n",
       "      <td>2</td>\n",
       "      <td>51</td>\n",
       "      <td>13883</td>\n",
       "    </tr>\n",
       "    <tr>\n",
       "      <th>1</th>\n",
       "      <td>2</td>\n",
       "      <td>52</td>\n",
       "      <td>11690</td>\n",
       "    </tr>\n",
       "    <tr>\n",
       "      <th>2</th>\n",
       "      <td>2</td>\n",
       "      <td>53</td>\n",
       "      <td>11351</td>\n",
       "    </tr>\n",
       "    <tr>\n",
       "      <th>3</th>\n",
       "      <td>2</td>\n",
       "      <td>54</td>\n",
       "      <td>10300</td>\n",
       "    </tr>\n",
       "    <tr>\n",
       "      <th>4</th>\n",
       "      <td>2</td>\n",
       "      <td>55</td>\n",
       "      <td>8983</td>\n",
       "    </tr>\n",
       "  </tbody>\n",
       "</table>\n",
       "</div>"
      ],
      "text/plain": [
       "   userID  artistID  weight\n",
       "0       2        51   13883\n",
       "1       2        52   11690\n",
       "2       2        53   11351\n",
       "3       2        54   10300\n",
       "4       2        55    8983"
      ]
     },
     "execution_count": 8,
     "metadata": {},
     "output_type": "execute_result"
    }
   ],
   "source": [
    "#artistas escuchados por cada usuario. \n",
    "### Sobre weight: \n",
    "#listening count para cada [user,artist] pair.\n",
    "# imaginamos que serán los minutos.\n",
    "#Podemos utilizarlo como rating, más minutos, más le gusta.\n",
    "\n",
    "users.head()"
   ]
  },
  {
   "cell_type": "code",
   "execution_count": null,
   "metadata": {},
   "outputs": [],
   "source": [
    "#Tag que el usuario asigna a un artista, y en el momento en el que se lo asignó.\n",
    "user_tag_artist.head()\n"
   ]
  },
  {
   "cell_type": "code",
   "execution_count": null,
   "metadata": {},
   "outputs": [],
   "source": [
    "#POSIBLES TAGS QUE SE PUEDEN ASIGNAR:\n",
    "print(\"\\nInformación de etiquetas:\")\n",
    "print(tags.head())\n"
   ]
  },
  {
   "cell_type": "code",
   "execution_count": null,
   "metadata": {},
   "outputs": [],
   "source": [
    "artists.info()"
   ]
  },
  {
   "cell_type": "code",
   "execution_count": null,
   "metadata": {},
   "outputs": [],
   "source": [
    "# No hay nulos en el fichero de artistas\n",
    "artists.isna().sum()"
   ]
  },
  {
   "cell_type": "code",
   "execution_count": null,
   "metadata": {},
   "outputs": [],
   "source": [
    "users.info()"
   ]
  },
  {
   "cell_type": "code",
   "execution_count": null,
   "metadata": {},
   "outputs": [],
   "source": [
    "users.isna().sum()"
   ]
  },
  {
   "cell_type": "code",
   "execution_count": null,
   "metadata": {},
   "outputs": [],
   "source": [
    "#Artistas con más listeners.\n",
    "artists.sort_values(by='listeners', ascending=False).head(10)"
   ]
  },
  {
   "cell_type": "markdown",
   "metadata": {},
   "source": [
    "Aunque en este ejercicio no se vaya a utilizar, es interesante conocer las etiquetas que más se usan para futuras aplicaciones de este sistema de recomendacion"
   ]
  },
  {
   "cell_type": "code",
   "execution_count": null,
   "metadata": {},
   "outputs": [],
   "source": [
    "# Contar la frecuencia de aparición de las etiquetas\n",
    "tag_counts = user_tag_artist['tagID'].value_counts().sort_values(ascending=False)[:10]\n",
    "top_tags = tags.loc[tag_counts.index]['tagValue']\n",
    "\n",
    "plt.barh(top_tags, tag_counts)\n",
    "plt.xlabel('Número de veces que la etiqueta fue utilizada')\n",
    "plt.ylabel('Etiqueta')\n",
    "plt.title('Top 10 etiquetas más utilizadas')\n",
    "plt.gca().invert_yaxis()\n",
    "plt.show()\n",
    "\n",
    "\n"
   ]
  },
  {
   "cell_type": "code",
   "execution_count": null,
   "metadata": {},
   "outputs": [],
   "source": [
    "users.value_counts('weight', normalize = False)"
   ]
  },
  {
   "cell_type": "code",
   "execution_count": null,
   "metadata": {},
   "outputs": [],
   "source": [
    "#Boxplot de la variable weight \n",
    "plt.boxplot(users['weight'])"
   ]
  },
  {
   "cell_type": "code",
   "execution_count": null,
   "metadata": {},
   "outputs": [],
   "source": [
    "len(users)"
   ]
  },
  {
   "cell_type": "code",
   "execution_count": null,
   "metadata": {},
   "outputs": [],
   "source": [
    "#Outliers: consideramos outliers los puntos que estén 3 desviaciones estándar por encima de la media.\n",
    "media = users['weight'].mean()\n",
    "std = users['weight'].std()\n",
    "outliers = users[users['weight'] > media + 3*std]\n",
    "\n",
    "#Porcentaje de outliers respecto al total de datos\n",
    "out_prop= len(outliers)/len(users)*100\n",
    "print(\"Los outliers representan el\", out_prop, \"% de los datos\")"
   ]
  },
  {
   "cell_type": "code",
   "execution_count": null,
   "metadata": {},
   "outputs": [],
   "source": [
    "from matplotlib.cbook import boxplot_stats\n",
    "\n",
    "def explore_outliers(df, num_vars):\n",
    "    outliers_df = dict()\n",
    "    for k in range(len(num_vars)):\n",
    "        var = num_vars[k]\n",
    "        sns.boxplot(df, x=var)\n",
    "        outliers_df[var] = boxplot_stats(df[var])[0][\"fliers\"]\n",
    "        out_pos = np.where(df[var].isin(outliers_df[var]))[0].tolist() \n",
    "        out_idx = [df[var].index.tolist()[ k ] for k in out_pos]\n",
    "        outliers_df[var] = {\"values\": outliers_df[var], \n",
    "                            \"positions\": out_pos, \n",
    "                            \"indices\": out_idx}\n",
    "    return outliers_df"
   ]
  },
  {
   "cell_type": "code",
   "execution_count": null,
   "metadata": {},
   "outputs": [],
   "source": [
    "out_XTR = explore_outliers(users, ['weight'])"
   ]
  },
  {
   "cell_type": "code",
   "execution_count": null,
   "metadata": {},
   "outputs": [],
   "source": [
    "print('Percetage of outliers', len(out_XTR.get('weight').get('indices'))/len(users))"
   ]
  },
  {
   "cell_type": "markdown",
   "metadata": {},
   "source": [
    "Contruccion de la matriz de ratings"
   ]
  },
  {
   "cell_type": "code",
   "execution_count": null,
   "metadata": {},
   "outputs": [],
   "source": [
    "ratings_matrix = users.pivot_table(values='weight', index='userID', columns='artistID')\n",
    "ratings_matrix.head()"
   ]
  },
  {
   "cell_type": "code",
   "execution_count": null,
   "metadata": {},
   "outputs": [],
   "source": [
    "df = ratings_matrix\n",
    "df['Mean weight'] = df.mean(axis=1)\n",
    "sns.histplot(x='Mean weight', binwidth=0.5, data=df)"
   ]
  },
  {
   "cell_type": "markdown",
   "metadata": {},
   "source": [
    "Comentario:Se decidió no eliminar los outliers ya que representaban un porcentaje muy pequeño del total. Queremos mantener los weights que son \"outliers\" para capturar el comportamiento de aquellos que se desvian de la tendencia principal "
   ]
  },
  {
   "cell_type": "markdown",
   "metadata": {},
   "source": [
    "### PLANTEAMIENTO DEL PROBLEMA: \n",
    "- Problema: Lo que queremos es proporcionar recomendaciones de artistas nuevos a un usuario. \n",
    "- Es un problema implícito ya que no tenemos ratings/calificaciones explícitas como tal, si no que tenemos el número de minutos escuchados.\n",
    "\n",
    "#### User-based collaborative filtering: \n",
    "- Solución: Buscar usuarios que sean similares al usuario target para poder hacer las recomendaciones. \n",
    "\n",
    "- Vamos a utilizar la matriz de usuarios-artistas (Sería la matriz de ratings): \n",
    "    - Dimensiones: (mxn), m usuarios, n artistas.\n",
    "    - Cada fila de la matriz es un usuario y cada columna es un artista.\n",
    "    - Cada celda es el número de veces/minutos que el usuario escuchó al artista (weight)\n",
    "\n",
    "- Cómo calcular la similitud entre usuarios? \n",
    "    - Utilizando similitud del coseno \n",
    "    - Utilizando fórmula de Pearson\n",
    "\n",
    "- Cuando tengamos los k usuarios más similares a nuestro usuario target u (Basado en similitud)\n",
    "    - Para los artistas que u no ha escuchado crearemos un rating basado en lo que los k usuarios calificaron ponderado por su peso (similitud)\n",
    "    - Ordenamos por rating descendente y hacemos top-n recomendaciones. \n"
   ]
  },
  {
   "cell_type": "code",
   "execution_count": null,
   "metadata": {},
   "outputs": [],
   "source": [
    "# Data processing\n",
    "import pandas as pd\n",
    "import numpy as np\n",
    "import scipy.stats\n",
    "\n",
    "# Visualization\n",
    "import seaborn as sns\n",
    "\n",
    "# Similarity\n",
    "from sklearn.metrics.pairwise import cosine_similarity"
   ]
  },
  {
   "cell_type": "markdown",
   "metadata": {},
   "source": [
    "Vamos a empezar haciendo un merge para tener en el mismo df los ususarios con los el id del artista que más escuchan pero tambien el nombre del mismo y el peso, que lo tomaremos como el \"rating\""
   ]
  },
  {
   "cell_type": "code",
   "execution_count": 4,
   "metadata": {},
   "outputs": [
    {
     "data": {
      "text/html": [
       "<div>\n",
       "<style scoped>\n",
       "    .dataframe tbody tr th:only-of-type {\n",
       "        vertical-align: middle;\n",
       "    }\n",
       "\n",
       "    .dataframe tbody tr th {\n",
       "        vertical-align: top;\n",
       "    }\n",
       "\n",
       "    .dataframe thead th {\n",
       "        text-align: right;\n",
       "    }\n",
       "</style>\n",
       "<table border=\"1\" class=\"dataframe\">\n",
       "  <thead>\n",
       "    <tr style=\"text-align: right;\">\n",
       "      <th></th>\n",
       "      <th>userID</th>\n",
       "      <th>artistID</th>\n",
       "      <th>weight</th>\n",
       "      <th>name</th>\n",
       "      <th>freq</th>\n",
       "      <th>listeners</th>\n",
       "    </tr>\n",
       "  </thead>\n",
       "  <tbody>\n",
       "    <tr>\n",
       "      <th>0</th>\n",
       "      <td>2</td>\n",
       "      <td>51</td>\n",
       "      <td>13883</td>\n",
       "      <td>Duran Duran</td>\n",
       "      <td>111</td>\n",
       "      <td>1588349</td>\n",
       "    </tr>\n",
       "    <tr>\n",
       "      <th>1</th>\n",
       "      <td>4</td>\n",
       "      <td>51</td>\n",
       "      <td>228</td>\n",
       "      <td>Duran Duran</td>\n",
       "      <td>111</td>\n",
       "      <td>1588349</td>\n",
       "    </tr>\n",
       "    <tr>\n",
       "      <th>2</th>\n",
       "      <td>27</td>\n",
       "      <td>51</td>\n",
       "      <td>85</td>\n",
       "      <td>Duran Duran</td>\n",
       "      <td>111</td>\n",
       "      <td>1588349</td>\n",
       "    </tr>\n",
       "    <tr>\n",
       "      <th>3</th>\n",
       "      <td>28</td>\n",
       "      <td>51</td>\n",
       "      <td>10</td>\n",
       "      <td>Duran Duran</td>\n",
       "      <td>111</td>\n",
       "      <td>1588349</td>\n",
       "    </tr>\n",
       "    <tr>\n",
       "      <th>4</th>\n",
       "      <td>62</td>\n",
       "      <td>51</td>\n",
       "      <td>528</td>\n",
       "      <td>Duran Duran</td>\n",
       "      <td>111</td>\n",
       "      <td>1588349</td>\n",
       "    </tr>\n",
       "  </tbody>\n",
       "</table>\n",
       "</div>"
      ],
      "text/plain": [
       "   userID  artistID  weight         name  freq  listeners\n",
       "0       2        51   13883  Duran Duran   111    1588349\n",
       "1       4        51     228  Duran Duran   111    1588349\n",
       "2      27        51      85  Duran Duran   111    1588349\n",
       "3      28        51      10  Duran Duran   111    1588349\n",
       "4      62        51     528  Duran Duran   111    1588349"
      ]
     },
     "execution_count": 4,
     "metadata": {},
     "output_type": "execute_result"
    }
   ],
   "source": [
    "# Merge users and artist datasets\n",
    "df = pd.merge(users, artists, on='artistID', how='inner')\n",
    "\n",
    "# Take a look at the data\n",
    "df.head()"
   ]
  },
  {
   "cell_type": "code",
   "execution_count": 5,
   "metadata": {},
   "outputs": [
    {
     "data": {
      "text/html": [
       "<div>\n",
       "<style scoped>\n",
       "    .dataframe tbody tr th:only-of-type {\n",
       "        vertical-align: middle;\n",
       "    }\n",
       "\n",
       "    .dataframe tbody tr th {\n",
       "        vertical-align: top;\n",
       "    }\n",
       "\n",
       "    .dataframe thead th {\n",
       "        text-align: right;\n",
       "    }\n",
       "</style>\n",
       "<table border=\"1\" class=\"dataframe\">\n",
       "  <thead>\n",
       "    <tr style=\"text-align: right;\">\n",
       "      <th></th>\n",
       "      <th>userID</th>\n",
       "      <th>artistID</th>\n",
       "      <th>weight</th>\n",
       "    </tr>\n",
       "  </thead>\n",
       "  <tbody>\n",
       "    <tr>\n",
       "      <th>0</th>\n",
       "      <td>2</td>\n",
       "      <td>51</td>\n",
       "      <td>13883</td>\n",
       "    </tr>\n",
       "    <tr>\n",
       "      <th>1</th>\n",
       "      <td>4</td>\n",
       "      <td>51</td>\n",
       "      <td>228</td>\n",
       "    </tr>\n",
       "    <tr>\n",
       "      <th>2</th>\n",
       "      <td>27</td>\n",
       "      <td>51</td>\n",
       "      <td>85</td>\n",
       "    </tr>\n",
       "    <tr>\n",
       "      <th>3</th>\n",
       "      <td>28</td>\n",
       "      <td>51</td>\n",
       "      <td>10</td>\n",
       "    </tr>\n",
       "    <tr>\n",
       "      <th>4</th>\n",
       "      <td>62</td>\n",
       "      <td>51</td>\n",
       "      <td>528</td>\n",
       "    </tr>\n",
       "  </tbody>\n",
       "</table>\n",
       "</div>"
      ],
      "text/plain": [
       "   userID  artistID  weight\n",
       "0       2        51   13883\n",
       "1       4        51     228\n",
       "2      27        51      85\n",
       "3      28        51      10\n",
       "4      62        51     528"
      ]
     },
     "execution_count": 5,
     "metadata": {},
     "output_type": "execute_result"
    }
   ],
   "source": [
    "df_drop = df.drop(columns=['freq', 'name', 'listeners'])\n",
    "df_drop.head()"
   ]
  },
  {
   "cell_type": "code",
   "execution_count": null,
   "metadata": {},
   "outputs": [],
   "source": [
    "df['weight'].mean()"
   ]
  },
  {
   "cell_type": "code",
   "execution_count": null,
   "metadata": {},
   "outputs": [],
   "source": [
    "# Aggregate by artist\n",
    "agg_ratings = df.groupby('name').agg(mean_rating = ('weight', 'mean'),\n",
    "                                                number_of_ratings = ('weight', 'count')).reset_index()"
   ]
  },
  {
   "cell_type": "code",
   "execution_count": null,
   "metadata": {},
   "outputs": [],
   "source": [
    "# Artistas que han sido escuchados por más usuarios distintos. (Más ratings)\n",
    "agg_ratings.sort_values(by='number_of_ratings', ascending=False).head(10)"
   ]
  },
  {
   "cell_type": "code",
   "execution_count": null,
   "metadata": {},
   "outputs": [],
   "source": [
    "agg_ratings.info()"
   ]
  },
  {
   "cell_type": "markdown",
   "metadata": {},
   "source": [
    "mean_rating seria la media del peso que se le da a cada artista"
   ]
  },
  {
   "cell_type": "code",
   "execution_count": null,
   "metadata": {},
   "outputs": [],
   "source": [
    "# Keep the artist with over 100 ratings (100 Listeners)\n",
    "# Tenemos 125 artistas.\n",
    "agg_ratings_GT100 = agg_ratings[agg_ratings['number_of_ratings']>100]\n",
    "agg_ratings_GT100.info()"
   ]
  },
  {
   "cell_type": "code",
   "execution_count": null,
   "metadata": {},
   "outputs": [],
   "source": [
    "# Visualization\n",
    "# Relación entre el rating medio y el número de ratings de cada artista.\n",
    "sns.jointplot(x='mean_rating', y='number_of_ratings', data=agg_ratings_GT100)"
   ]
  },
  {
   "cell_type": "code",
   "execution_count": null,
   "metadata": {},
   "outputs": [],
   "source": [
    "# Merge data\n",
    "df_GT100 = pd.merge(df, agg_ratings_GT100[['name']], on='name', how='inner')\n",
    "df_GT100.info()"
   ]
  },
  {
   "cell_type": "code",
   "execution_count": null,
   "metadata": {},
   "outputs": [],
   "source": [
    "# Number of artists\n",
    "print('The ratings dataset has', df_GT100['artistID'].nunique(), 'unique artists')\n",
    "\n",
    "# Number of users\n",
    "print('The ratings dataset has', df_GT100['userID'].nunique(), 'unique users')\n",
    "\n",
    "# Average of weights\n",
    "average_weight = df_GT100['weight'].mean()\n",
    "print('The average weight is', average_weight)\n",
    "\n",
    "# Median of weights\n",
    "median_weight = df_GT100['weight'].median()\n",
    "print('The median weight is', median_weight)\n",
    "\n",
    "# Standard deviation of weights\n",
    "std_weight = df_GT100['weight'].std()\n",
    "print('The standard deviation of weights is', std_weight)\n"
   ]
  },
  {
   "cell_type": "code",
   "execution_count": null,
   "metadata": {},
   "outputs": [],
   "source": [
    "# Create user-item matrix \n",
    "# No hay user 1 o sea que está bien. \n",
    "matrix = df_GT100.pivot_table(index='userID', columns='name', values='weight')\n",
    "matrix.head()"
   ]
  },
  {
   "cell_type": "code",
   "execution_count": null,
   "metadata": {},
   "outputs": [],
   "source": [
    "# Normalize user-item matrix\n",
    "matrix_norm = matrix.subtract(matrix.mean(axis=1), axis = 'rows')\n",
    "matrix_norm.head()"
   ]
  },
  {
   "cell_type": "code",
   "execution_count": null,
   "metadata": {},
   "outputs": [],
   "source": [
    "# User similarity matrix using Pearson correlation\n",
    "user_similarity_pearson = matrix_norm.T.corr()\n",
    "user_similarity_pearson.head()"
   ]
  },
  {
   "cell_type": "code",
   "execution_count": null,
   "metadata": {},
   "outputs": [],
   "source": [
    "# User similarity matrix using cosine similarity.\n",
    "# Rellenamos con 0s los Nans porque coseno no deja. \n",
    "user_similarity_cosine = cosine_similarity(matrix_norm.fillna(0))\n",
    "user_similarity_cosine"
   ]
  },
  {
   "cell_type": "code",
   "execution_count": null,
   "metadata": {},
   "outputs": [],
   "source": [
    "# Pick a user ID\n",
    "picked_userid = 2\n",
    "\n",
    "# Remove picked user ID from the candidate list\n",
    "user_similarity_pearson.drop(index=picked_userid, inplace=True)\n",
    "\n",
    "# Take a look at the data\n",
    "user_similarity_pearson.head()"
   ]
  },
  {
   "cell_type": "code",
   "execution_count": null,
   "metadata": {},
   "outputs": [],
   "source": [
    "# most similar users \n",
    "# Number of similar users\n",
    "n = 10\n",
    "\n",
    "# User similarity threashold\n",
    "user_similarity_threshold = 0.3\n",
    "\n",
    "# Get top n similar users\n",
    "similar_users = user_similarity_pearson[user_similarity_pearson[picked_userid]>user_similarity_threshold][picked_userid].sort_values(ascending=False)[:n]\n",
    "\n",
    "# Print out top n similar users\n",
    "print(f'The similar users for user {picked_userid} are', similar_users)"
   ]
  },
  {
   "cell_type": "markdown",
   "metadata": {},
   "source": [
    "we will narrow down the item pool by doing the following:\n",
    "1. Remove the artists that have been listened by the target user (user ID 1 in this example).\n",
    "2. Keep only the artists that similar users have listened.\n",
    "\n",
    "To remove the artists listened by the target user, we keep only the row for `userId=2` in the user-item matrix and remove the items with missing values."
   ]
  },
  {
   "cell_type": "code",
   "execution_count": null,
   "metadata": {},
   "outputs": [],
   "source": [
    "# artists that the target user has listened to\n",
    "picked_userid_listened = matrix_norm[matrix_norm.index == picked_userid].dropna(axis=1, how='all')\n",
    "picked_userid_listened"
   ]
  },
  {
   "cell_type": "markdown",
   "metadata": {},
   "source": [
    "To keep only the similar users' movies, we keep the user IDs in the top 10 similar user lists and remove the film with all missing values. All missing value for a movie means that none of the similar users have watched the movie.\n"
   ]
  },
  {
   "cell_type": "code",
   "execution_count": null,
   "metadata": {},
   "outputs": [],
   "source": [
    "# Artists that similar users listened. Remove artists that none of the similar users have watched\n",
    "similar_user_artists = matrix_norm[matrix_norm.index.isin(similar_users.index)].dropna(axis=1, how='all')\n",
    "similar_user_artists"
   ]
  },
  {
   "cell_type": "code",
   "execution_count": null,
   "metadata": {},
   "outputs": [],
   "source": [
    "# Remove the already listened artists from the movie list\n",
    "similar_user_artists.drop(picked_userid_listened.columns,axis=1, inplace=True, errors='ignore')\n",
    "\n",
    "# Take a look at the data\n",
    "similar_user_artists"
   ]
  },
  {
   "cell_type": "code",
   "execution_count": null,
   "metadata": {},
   "outputs": [],
   "source": [
    "# A dictionary to store item scores\n",
    "item_score = {}\n",
    "\n",
    "# Loop through items\n",
    "for i in similar_user_artists.columns:\n",
    "  # Get the ratings for movie i\n",
    "  movie_rating = similar_user_artists[i]\n",
    "  # Create a variable to store the score\n",
    "  total = 0\n",
    "  # Create a variable to store the number of scores\n",
    "  count = 0\n",
    "  # Loop through similar users\n",
    "  for u in similar_users.index:\n",
    "    # If the movie has rating\n",
    "    if pd.isna(movie_rating[u]) == False:\n",
    "      # Score is the sum of user similarity score multiply by the movie rating\n",
    "      score = similar_users[u] * movie_rating[u]\n",
    "      # Add the score to the total score for the movie so far\n",
    "      total += score\n",
    "      # Add 1 to the count\n",
    "      count +=1\n",
    "  # Get the average score for the item\n",
    "  item_score[i] = total / count\n",
    "\n",
    "# Convert dictionary to pandas dataframe\n",
    "item_score = pd.DataFrame(item_score.items(), columns=['artist', 'artist_score'])\n",
    "\n",
    "# Sort the movies by score\n",
    "ranked_item_score = item_score.sort_values(by='artist_score', ascending=False)\n",
    "\n",
    "# Select top m artists\n",
    "m = 10\n",
    "ranked_item_score.head(m)"
   ]
  },
  {
   "cell_type": "markdown",
   "metadata": {},
   "source": [
    "predict score "
   ]
  },
  {
   "cell_type": "code",
   "execution_count": null,
   "metadata": {},
   "outputs": [],
   "source": [
    "# Average rating for the picked user\n",
    "avg_rating = matrix[matrix.index == picked_userid].T.mean()[picked_userid]\n",
    "\n",
    "# Print the average movie rating for user 1\n",
    "print(f'The average movie rating for user {picked_userid} is {avg_rating:.2f}')"
   ]
  },
  {
   "cell_type": "code",
   "execution_count": null,
   "metadata": {},
   "outputs": [],
   "source": [
    "# Calcuate the predicted rating: \n",
    "ranked_item_score['predicted_rating'] = ranked_item_score['artist_score'] + avg_rating\n",
    "\n",
    "# Take a look at the data\n",
    "ranked_item_score.head(m)"
   ]
  },
  {
   "cell_type": "markdown",
   "metadata": {},
   "source": [
    "Voy a hacer user-based como en amazon beuty"
   ]
  },
  {
   "cell_type": "code",
   "execution_count": 6,
   "metadata": {},
   "outputs": [
    {
     "name": "stderr",
     "output_type": "stream",
     "text": [
      "/usr/local/Caskroom/miniforge/base/envs/envml3/lib/python3.11/site-packages/tqdm/auto.py:21: TqdmWarning: IProgress not found. Please update jupyter and ipywidgets. See https://ipywidgets.readthedocs.io/en/stable/user_install.html\n",
      "  from .autonotebook import tqdm as notebook_tqdm\n"
     ]
    }
   ],
   "source": [
    "import tqdm as notebook_tqdm\n",
    "import cornac\n",
    "from cornac.utils import cache\n",
    "from cornac.datasets import movielens\n",
    "from cornac.eval_methods import RatioSplit\n",
    "from cornac.models import UserKNN, ItemKNN, SVD"
   ]
  },
  {
   "cell_type": "code",
   "execution_count": 7,
   "metadata": {},
   "outputs": [
    {
     "name": "stdout",
     "output_type": "stream",
     "text": [
      "\n",
      "TEST:\n",
      "...\n",
      "                   |      MAE |      RMSE | Precision@30 | Recall@300 | Recall@900 | Train (s) | Test (s)\n",
      "------------------ + -------- + --------- + ------------ + ---------- + ---------- + --------- + --------\n",
      "UserKNN-Cosine     | 915.5369 | 1346.2956 |       0.0025 |     0.1086 |     0.2413 |    0.2854 |  17.9417\n",
      "UserKNN-Cosine-MC  | 929.0477 | 1342.4409 |       0.0022 |     0.0763 |     0.2053 |    0.2247 |  17.4457\n",
      "UserKNN-Pearson    | 929.0477 | 1342.4409 |       0.0022 |     0.0763 |     0.2053 |    0.2260 |  18.0013\n",
      "UserKNN-Pearson-MC | 929.0477 | 1342.4409 |       0.0022 |     0.0763 |     0.2053 |    0.2475 |  17.0703\n",
      "\n"
     ]
    }
   ],
   "source": [
    "def userknn_cornac(df:pd.DataFrame):\n",
    "\n",
    "  df = df.astype({'userID':object, 'artistID':object})\n",
    "  records = df.to_records(index=False)\n",
    "  result = list(records)\n",
    "\n",
    "  K = 3  # number of nearest neighbors\n",
    "  VERBOSE = False\n",
    "  SEED = 42\n",
    "  uknn_cosine = UserKNN(k=K, similarity=\"cosine\", name=\"UserKNN-Cosine\", verbose=VERBOSE)\n",
    "  uknn_cosine_mc = UserKNN(k=K, similarity=\"cosine\", mean_centered=True, name=\"UserKNN-Cosine-MC\", verbose=VERBOSE)\n",
    "  uknn_pearson = UserKNN(k=K, similarity=\"pearson\", name=\"UserKNN-Pearson\", verbose=VERBOSE)\n",
    "  uknn_pearson_mc = UserKNN(k=K, similarity=\"pearson\", mean_centered=True, name=\"UserKNN-Pearson-MC\", verbose=VERBOSE)\n",
    "  \n",
    "  # Metrics\n",
    "  rec_300 = cornac.metrics.Recall(k=300)\n",
    "  rec_900 = cornac.metrics.Recall(k=900)\n",
    "  prec_30 = cornac.metrics.Precision(k=30)\n",
    "  rmse = cornac.metrics.RMSE()\n",
    "  mae = cornac.metrics.MAE()\n",
    "  \n",
    "  ratio_split = RatioSplit(result, test_size=0.1, seed=SEED, verbose=VERBOSE)\n",
    "  cornac.Experiment(eval_method=ratio_split,\n",
    "                    models=[uknn_cosine, uknn_cosine_mc, uknn_pearson, uknn_pearson_mc],\n",
    "                    metrics=[rec_300, rec_900, prec_30, rmse, mae],\n",
    "                    ).run()\n",
    "  \n",
    "  userknn_models = {'uknn_cosine': uknn_cosine, 'uknn_cosine_mc': uknn_cosine_mc,\n",
    "                'uknn_pearson': uknn_pearson, 'uknn_pearson_mc': uknn_pearson_mc}\n",
    "  \n",
    "  return userknn_models\n",
    "\n",
    "userknn_models = userknn_cornac(df_drop)"
   ]
  },
  {
   "cell_type": "code",
   "execution_count": 18,
   "metadata": {},
   "outputs": [],
   "source": [
    "df_user_10k = users.set_index(\"userID\")\n",
    "df_item_10k = users.set_index(\"artistID\")"
   ]
  },
  {
   "cell_type": "code",
   "execution_count": 23,
   "metadata": {},
   "outputs": [
    {
     "name": "stdout",
     "output_type": "stream",
     "text": [
      "<class 'pandas.core.frame.DataFrame'>\n",
      "Index: 92834 entries, 1642 to 1004\n",
      "Data columns (total 2 columns):\n",
      " #   Column    Non-Null Count  Dtype\n",
      "---  ------    --------------  -----\n",
      " 0   artistID  92834 non-null  int64\n",
      " 1   weight    92834 non-null  int64\n",
      "dtypes: int64(2)\n",
      "memory usage: 2.1 MB\n"
     ]
    }
   ],
   "source": [
    "df_user_10k.info()"
   ]
  },
  {
   "cell_type": "code",
   "execution_count": 25,
   "metadata": {},
   "outputs": [
    {
     "data": {
      "text/plain": [
       "array([[<Axes: title={'center': 'artistID'}>,\n",
       "        <Axes: title={'center': 'weight'}>]], dtype=object)"
      ]
     },
     "execution_count": 25,
     "metadata": {},
     "output_type": "execute_result"
    },
    {
     "data": {
      "image/png": "[encoded data removed]",
      "text/plain": [
       "<Figure size 640x480 with 2 Axes>"
      ]
     },
     "metadata": {},
     "output_type": "display_data"
    }
   ],
   "source": [
    "#localizar al usuario con userID igual a un integer 1642:\n",
    "df_user_10k.loc[1642].hist()\n"
   ]
  },
  {
   "cell_type": "code",
   "execution_count": 26,
   "metadata": {},
   "outputs": [
    {
     "data": {
      "text/html": [
       "<div>\n",
       "<style scoped>\n",
       "    .dataframe tbody tr th:only-of-type {\n",
       "        vertical-align: middle;\n",
       "    }\n",
       "\n",
       "    .dataframe tbody tr th {\n",
       "        vertical-align: top;\n",
       "    }\n",
       "\n",
       "    .dataframe thead th {\n",
       "        text-align: right;\n",
       "    }\n",
       "</style>\n",
       "<table border=\"1\" class=\"dataframe\">\n",
       "  <thead>\n",
       "    <tr style=\"text-align: right;\">\n",
       "      <th></th>\n",
       "      <th>userID</th>\n",
       "      <th>weight</th>\n",
       "    </tr>\n",
       "    <tr>\n",
       "      <th>artistID</th>\n",
       "      <th></th>\n",
       "      <th></th>\n",
       "    </tr>\n",
       "  </thead>\n",
       "  <tbody>\n",
       "    <tr>\n",
       "      <th>72</th>\n",
       "      <td>1642</td>\n",
       "      <td>352698</td>\n",
       "    </tr>\n",
       "    <tr>\n",
       "      <th>792</th>\n",
       "      <td>2071</td>\n",
       "      <td>324663</td>\n",
       "    </tr>\n",
       "    <tr>\n",
       "      <th>511</th>\n",
       "      <td>1094</td>\n",
       "      <td>320725</td>\n",
       "    </tr>\n",
       "    <tr>\n",
       "      <th>203</th>\n",
       "      <td>1905</td>\n",
       "      <td>257978</td>\n",
       "    </tr>\n",
       "    <tr>\n",
       "      <th>498</th>\n",
       "      <td>1664</td>\n",
       "      <td>227829</td>\n",
       "    </tr>\n",
       "  </tbody>\n",
       "</table>\n",
       "</div>"
      ],
      "text/plain": [
       "          userID  weight\n",
       "artistID                \n",
       "72          1642  352698\n",
       "792         2071  324663\n",
       "511         1094  320725\n",
       "203         1905  257978\n",
       "498         1664  227829"
      ]
     },
     "execution_count": 26,
     "metadata": {},
     "output_type": "execute_result"
    }
   ],
   "source": [
    "df_item_10k.head()"
   ]
  },
  {
   "cell_type": "code",
   "execution_count": 30,
   "metadata": {},
   "outputs": [
    {
     "data": {
      "text/html": [
       "<div>\n",
       "<style scoped>\n",
       "    .dataframe tbody tr th:only-of-type {\n",
       "        vertical-align: middle;\n",
       "    }\n",
       "\n",
       "    .dataframe tbody tr th {\n",
       "        vertical-align: top;\n",
       "    }\n",
       "\n",
       "    .dataframe thead th {\n",
       "        text-align: right;\n",
       "    }\n",
       "</style>\n",
       "<table border=\"1\" class=\"dataframe\">\n",
       "  <thead>\n",
       "    <tr style=\"text-align: right;\">\n",
       "      <th></th>\n",
       "      <th>userID</th>\n",
       "      <th>weight</th>\n",
       "    </tr>\n",
       "    <tr>\n",
       "      <th>artistID</th>\n",
       "      <th></th>\n",
       "      <th></th>\n",
       "    </tr>\n",
       "  </thead>\n",
       "  <tbody>\n",
       "    <tr>\n",
       "      <th>72</th>\n",
       "      <td>1642</td>\n",
       "      <td>352698</td>\n",
       "    </tr>\n",
       "    <tr>\n",
       "      <th>1072</th>\n",
       "      <td>1642</td>\n",
       "      <td>10947</td>\n",
       "    </tr>\n",
       "    <tr>\n",
       "      <th>14750</th>\n",
       "      <td>1642</td>\n",
       "      <td>6747</td>\n",
       "    </tr>\n",
       "    <tr>\n",
       "      <th>15778</th>\n",
       "      <td>1642</td>\n",
       "      <td>3621</td>\n",
       "    </tr>\n",
       "    <tr>\n",
       "      <th>15779</th>\n",
       "      <td>1642</td>\n",
       "      <td>2024</td>\n",
       "    </tr>\n",
       "    <tr>\n",
       "      <th>2824</th>\n",
       "      <td>1642</td>\n",
       "      <td>1982</td>\n",
       "    </tr>\n",
       "    <tr>\n",
       "      <th>15780</th>\n",
       "      <td>1642</td>\n",
       "      <td>841</td>\n",
       "    </tr>\n",
       "    <tr>\n",
       "      <th>15781</th>\n",
       "      <td>1642</td>\n",
       "      <td>827</td>\n",
       "    </tr>\n",
       "    <tr>\n",
       "      <th>9980</th>\n",
       "      <td>1642</td>\n",
       "      <td>498</td>\n",
       "    </tr>\n",
       "    <tr>\n",
       "      <th>15782</th>\n",
       "      <td>1642</td>\n",
       "      <td>449</td>\n",
       "    </tr>\n",
       "    <tr>\n",
       "      <th>15783</th>\n",
       "      <td>1642</td>\n",
       "      <td>440</td>\n",
       "    </tr>\n",
       "    <tr>\n",
       "      <th>15784</th>\n",
       "      <td>1642</td>\n",
       "      <td>349</td>\n",
       "    </tr>\n",
       "    <tr>\n",
       "      <th>511</th>\n",
       "      <td>1642</td>\n",
       "      <td>318</td>\n",
       "    </tr>\n",
       "    <tr>\n",
       "      <th>14744</th>\n",
       "      <td>1642</td>\n",
       "      <td>307</td>\n",
       "    </tr>\n",
       "    <tr>\n",
       "      <th>14757</th>\n",
       "      <td>1642</td>\n",
       "      <td>304</td>\n",
       "    </tr>\n",
       "    <tr>\n",
       "      <th>1713</th>\n",
       "      <td>1642</td>\n",
       "      <td>294</td>\n",
       "    </tr>\n",
       "    <tr>\n",
       "      <th>15785</th>\n",
       "      <td>1642</td>\n",
       "      <td>281</td>\n",
       "    </tr>\n",
       "    <tr>\n",
       "      <th>14774</th>\n",
       "      <td>1642</td>\n",
       "      <td>259</td>\n",
       "    </tr>\n",
       "    <tr>\n",
       "      <th>15786</th>\n",
       "      <td>1642</td>\n",
       "      <td>239</td>\n",
       "    </tr>\n",
       "    <tr>\n",
       "      <th>14780</th>\n",
       "      <td>1642</td>\n",
       "      <td>233</td>\n",
       "    </tr>\n",
       "    <tr>\n",
       "      <th>15787</th>\n",
       "      <td>1642</td>\n",
       "      <td>231</td>\n",
       "    </tr>\n",
       "    <tr>\n",
       "      <th>15788</th>\n",
       "      <td>1642</td>\n",
       "      <td>229</td>\n",
       "    </tr>\n",
       "    <tr>\n",
       "      <th>14675</th>\n",
       "      <td>1642</td>\n",
       "      <td>213</td>\n",
       "    </tr>\n",
       "    <tr>\n",
       "      <th>11520</th>\n",
       "      <td>1642</td>\n",
       "      <td>212</td>\n",
       "    </tr>\n",
       "    <tr>\n",
       "      <th>15789</th>\n",
       "      <td>1642</td>\n",
       "      <td>212</td>\n",
       "    </tr>\n",
       "    <tr>\n",
       "      <th>1009</th>\n",
       "      <td>1642</td>\n",
       "      <td>207</td>\n",
       "    </tr>\n",
       "    <tr>\n",
       "      <th>15790</th>\n",
       "      <td>1642</td>\n",
       "      <td>201</td>\n",
       "    </tr>\n",
       "    <tr>\n",
       "      <th>15791</th>\n",
       "      <td>1642</td>\n",
       "      <td>178</td>\n",
       "    </tr>\n",
       "    <tr>\n",
       "      <th>159</th>\n",
       "      <td>1642</td>\n",
       "      <td>174</td>\n",
       "    </tr>\n",
       "    <tr>\n",
       "      <th>15792</th>\n",
       "      <td>1642</td>\n",
       "      <td>169</td>\n",
       "    </tr>\n",
       "    <tr>\n",
       "      <th>1079</th>\n",
       "      <td>1642</td>\n",
       "      <td>162</td>\n",
       "    </tr>\n",
       "    <tr>\n",
       "      <th>15793</th>\n",
       "      <td>1642</td>\n",
       "      <td>158</td>\n",
       "    </tr>\n",
       "    <tr>\n",
       "      <th>2149</th>\n",
       "      <td>1642</td>\n",
       "      <td>155</td>\n",
       "    </tr>\n",
       "    <tr>\n",
       "      <th>15794</th>\n",
       "      <td>1642</td>\n",
       "      <td>144</td>\n",
       "    </tr>\n",
       "    <tr>\n",
       "      <th>75</th>\n",
       "      <td>1642</td>\n",
       "      <td>142</td>\n",
       "    </tr>\n",
       "    <tr>\n",
       "      <th>14752</th>\n",
       "      <td>1642</td>\n",
       "      <td>139</td>\n",
       "    </tr>\n",
       "    <tr>\n",
       "      <th>14739</th>\n",
       "      <td>1642</td>\n",
       "      <td>135</td>\n",
       "    </tr>\n",
       "    <tr>\n",
       "      <th>15795</th>\n",
       "      <td>1642</td>\n",
       "      <td>128</td>\n",
       "    </tr>\n",
       "    <tr>\n",
       "      <th>15796</th>\n",
       "      <td>1642</td>\n",
       "      <td>127</td>\n",
       "    </tr>\n",
       "    <tr>\n",
       "      <th>15797</th>\n",
       "      <td>1642</td>\n",
       "      <td>125</td>\n",
       "    </tr>\n",
       "    <tr>\n",
       "      <th>15798</th>\n",
       "      <td>1642</td>\n",
       "      <td>123</td>\n",
       "    </tr>\n",
       "    <tr>\n",
       "      <th>15799</th>\n",
       "      <td>1642</td>\n",
       "      <td>122</td>\n",
       "    </tr>\n",
       "    <tr>\n",
       "      <th>61</th>\n",
       "      <td>1642</td>\n",
       "      <td>120</td>\n",
       "    </tr>\n",
       "    <tr>\n",
       "      <th>5871</th>\n",
       "      <td>1642</td>\n",
       "      <td>117</td>\n",
       "    </tr>\n",
       "    <tr>\n",
       "      <th>15800</th>\n",
       "      <td>1642</td>\n",
       "      <td>115</td>\n",
       "    </tr>\n",
       "    <tr>\n",
       "      <th>15801</th>\n",
       "      <td>1642</td>\n",
       "      <td>114</td>\n",
       "    </tr>\n",
       "    <tr>\n",
       "      <th>15802</th>\n",
       "      <td>1642</td>\n",
       "      <td>114</td>\n",
       "    </tr>\n",
       "    <tr>\n",
       "      <th>187</th>\n",
       "      <td>1642</td>\n",
       "      <td>111</td>\n",
       "    </tr>\n",
       "    <tr>\n",
       "      <th>529</th>\n",
       "      <td>1642</td>\n",
       "      <td>109</td>\n",
       "    </tr>\n",
       "    <tr>\n",
       "      <th>56</th>\n",
       "      <td>1642</td>\n",
       "      <td>107</td>\n",
       "    </tr>\n",
       "  </tbody>\n",
       "</table>\n",
       "</div>"
      ],
      "text/plain": [
       "          userID  weight\n",
       "artistID                \n",
       "72          1642  352698\n",
       "1072        1642   10947\n",
       "14750       1642    6747\n",
       "15778       1642    3621\n",
       "15779       1642    2024\n",
       "2824        1642    1982\n",
       "15780       1642     841\n",
       "15781       1642     827\n",
       "9980        1642     498\n",
       "15782       1642     449\n",
       "15783       1642     440\n",
       "15784       1642     349\n",
       "511         1642     318\n",
       "14744       1642     307\n",
       "14757       1642     304\n",
       "1713        1642     294\n",
       "15785       1642     281\n",
       "14774       1642     259\n",
       "15786       1642     239\n",
       "14780       1642     233\n",
       "15787       1642     231\n",
       "15788       1642     229\n",
       "14675       1642     213\n",
       "11520       1642     212\n",
       "15789       1642     212\n",
       "1009        1642     207\n",
       "15790       1642     201\n",
       "15791       1642     178\n",
       "159         1642     174\n",
       "15792       1642     169\n",
       "1079        1642     162\n",
       "15793       1642     158\n",
       "2149        1642     155\n",
       "15794       1642     144\n",
       "75          1642     142\n",
       "14752       1642     139\n",
       "14739       1642     135\n",
       "15795       1642     128\n",
       "15796       1642     127\n",
       "15797       1642     125\n",
       "15798       1642     123\n",
       "15799       1642     122\n",
       "61          1642     120\n",
       "5871        1642     117\n",
       "15800       1642     115\n",
       "15801       1642     114\n",
       "15802       1642     114\n",
       "187         1642     111\n",
       "529         1642     109\n",
       "56          1642     107"
      ]
     },
     "execution_count": 30,
     "metadata": {},
     "output_type": "execute_result"
    }
   ],
   "source": [
    "users = df_item_10k.groupby('userID')\n",
    "users.head()\n",
    "users.get_group(1642)"
   ]
  },
  {
   "cell_type": "code",
   "execution_count": 33,
   "metadata": {},
   "outputs": [
    {
     "data": {
      "text/html": [
       "<div>\n",
       "<style scoped>\n",
       "    .dataframe tbody tr th:only-of-type {\n",
       "        vertical-align: middle;\n",
       "    }\n",
       "\n",
       "    .dataframe tbody tr th {\n",
       "        vertical-align: top;\n",
       "    }\n",
       "\n",
       "    .dataframe thead th {\n",
       "        text-align: right;\n",
       "    }\n",
       "</style>\n",
       "<table border=\"1\" class=\"dataframe\">\n",
       "  <thead>\n",
       "    <tr style=\"text-align: right;\">\n",
       "      <th></th>\n",
       "      <th>artistID</th>\n",
       "      <th>weight</th>\n",
       "    </tr>\n",
       "    <tr>\n",
       "      <th>userID</th>\n",
       "      <th></th>\n",
       "      <th></th>\n",
       "    </tr>\n",
       "  </thead>\n",
       "  <tbody>\n",
       "    <tr>\n",
       "      <th>1642</th>\n",
       "      <td>72</td>\n",
       "      <td>352698</td>\n",
       "    </tr>\n",
       "    <tr>\n",
       "      <th>446</th>\n",
       "      <td>72</td>\n",
       "      <td>107031</td>\n",
       "    </tr>\n",
       "    <tr>\n",
       "      <th>1942</th>\n",
       "      <td>72</td>\n",
       "      <td>88079</td>\n",
       "    </tr>\n",
       "    <tr>\n",
       "      <th>2080</th>\n",
       "      <td>72</td>\n",
       "      <td>80721</td>\n",
       "    </tr>\n",
       "    <tr>\n",
       "      <th>767</th>\n",
       "      <td>72</td>\n",
       "      <td>71852</td>\n",
       "    </tr>\n",
       "    <tr>\n",
       "      <th>...</th>\n",
       "      <td>...</td>\n",
       "      <td>...</td>\n",
       "    </tr>\n",
       "    <tr>\n",
       "      <th>28</th>\n",
       "      <td>72</td>\n",
       "      <td>8</td>\n",
       "    </tr>\n",
       "    <tr>\n",
       "      <th>1010</th>\n",
       "      <td>72</td>\n",
       "      <td>7</td>\n",
       "    </tr>\n",
       "    <tr>\n",
       "      <th>802</th>\n",
       "      <td>72</td>\n",
       "      <td>5</td>\n",
       "    </tr>\n",
       "    <tr>\n",
       "      <th>1065</th>\n",
       "      <td>72</td>\n",
       "      <td>5</td>\n",
       "    </tr>\n",
       "    <tr>\n",
       "      <th>1432</th>\n",
       "      <td>72</td>\n",
       "      <td>1</td>\n",
       "    </tr>\n",
       "  </tbody>\n",
       "</table>\n",
       "<p>282 rows × 2 columns</p>\n",
       "</div>"
      ],
      "text/plain": [
       "        artistID  weight\n",
       "userID                  \n",
       "1642          72  352698\n",
       "446           72  107031\n",
       "1942          72   88079\n",
       "2080          72   80721\n",
       "767           72   71852\n",
       "...          ...     ...\n",
       "28            72       8\n",
       "1010          72       7\n",
       "802           72       5\n",
       "1065          72       5\n",
       "1432          72       1\n",
       "\n",
       "[282 rows x 2 columns]"
      ]
     },
     "execution_count": 33,
     "metadata": {},
     "output_type": "execute_result"
    }
   ],
   "source": [
    "items = df_user_10k.groupby('artistID')\n",
    "items.get_group(72)\n"
   ]
  },
  {
   "cell_type": "markdown",
   "metadata": {},
   "source": [
    "elegimos este modelo porque es el que menos RMSE tiene "
   ]
  },
  {
   "cell_type": "code",
   "execution_count": 34,
   "metadata": {},
   "outputs": [],
   "source": [
    "model = userknn_models.get('uknn_pearson_mc')"
   ]
  },
  {
   "cell_type": "code",
   "execution_count": 37,
   "metadata": {},
   "outputs": [],
   "source": [
    "def user_profiling(UID, model, user_df, TOPK=3):\n",
    "\n",
    "  rating_mat = model.train_set.matrix\n",
    "\n",
    "  UIDX = list(model.train_set.uid_map.items())[UID][0]\n",
    "\n",
    "  print(f\"UserID = {UIDX}\")\n",
    "  print(\"-\" * 35)\n",
    "  print(user_df.loc[UIDX])\n",
    "\n",
    "  ratings = pd.DataFrame(rating_mat.toarray())\n",
    "  user_ratings = ratings.loc[UID]\n",
    "  top_rated_items = np.argsort(user_ratings)[-TOPK:]\n",
    "  print(f\"\\nTOP {TOPK} RATED ITEMS BY USER {UID}:\")\n",
    "  print(\"-\" * 35)\n",
    "  print(user_df.iloc[top_rated_items.array])\n",
    "\n",
    "model = userknn_models.get('uknn_cosine')\n",
    "\n"
   ]
  },
  {
   "cell_type": "code",
   "execution_count": 40,
   "metadata": {},
   "outputs": [
    {
     "name": "stdout",
     "output_type": "stream",
     "text": [
      "UserID = 120\n",
      "-----------------------------------\n",
      "        artistID  weight\n",
      "userID                  \n",
      "120          344    2047\n",
      "120          289    1256\n",
      "120          291     700\n",
      "120          377     503\n",
      "120         1459     475\n",
      "120          257     441\n",
      "120          498     409\n",
      "120         1556     320\n",
      "120          290     297\n",
      "120          292     249\n",
      "120         2977     248\n",
      "120          327     144\n",
      "120          191     134\n",
      "120         1032     130\n",
      "120         1059     126\n",
      "120          288     102\n",
      "120          295      87\n",
      "120          157      76\n",
      "120          293      73\n",
      "120          342      59\n",
      "120         2978      53\n",
      "120           65      48\n",
      "120          301      48\n",
      "120          701      47\n",
      "120          333      45\n",
      "120          687      43\n",
      "120         1447      42\n",
      "120          693      41\n",
      "120          300      37\n",
      "120          461      35\n",
      "120          294      35\n",
      "120          475      33\n",
      "120          915      30\n",
      "120         1179      27\n",
      "120          331      26\n",
      "120         2979      24\n",
      "120          486      23\n",
      "120         1934      23\n",
      "120         1380      22\n",
      "120          352      20\n",
      "120         2981      19\n",
      "120         2980      19\n",
      "120          543      19\n",
      "120          704      18\n",
      "120          332      16\n",
      "120          403      16\n",
      "120          548      16\n",
      "120         1470      15\n",
      "120          378      14\n",
      "120         2982      14\n",
      "\n",
      "TOP 3 RATED ITEMS BY USER 2:\n",
      "-----------------------------------\n",
      "        artistID  weight\n",
      "userID                  \n",
      "318          701   60849\n",
      "909         1246   39369\n",
      "882          288   33278\n"
     ]
    }
   ],
   "source": [
    "top_rated_items = user_profiling(2, model, df_user_10k)"
   ]
  },
  {
   "cell_type": "code",
   "execution_count": 41,
   "metadata": {},
   "outputs": [],
   "source": [
    "def uknn_get_scores(UID, model, user_df, TOPK=5):\n",
    "\n",
    "    UIDX = list(model.train_set.uid_map.items())[UID][0]\n",
    "    recommendations, scores = model.rank(UID)\n",
    "    print(f\"\\nTOP {5} RECOMMENDATIONS FOR USER {UIDX}:\")\n",
    "    print(\"Scores:\", scores[recommendations[:TOPK]])\n",
    "    print(user_df.iloc[recommendations[:TOPK]])"
   ]
  },
  {
   "cell_type": "code",
   "execution_count": 42,
   "metadata": {},
   "outputs": [
    {
     "name": "stdout",
     "output_type": "stream",
     "text": [
      "\n",
      "TOP 5 RECOMMENDATIONS FOR USER 120:\n",
      "Scores: [9152.51588476 7932.70630673 7320.3330537  7180.41591602 6204.16924401]\n",
      "        artistID  weight\n",
      "userID                  \n",
      "1942       17804    2488\n",
      "1277         217    4987\n",
      "797           89    3115\n",
      "910          349    6756\n",
      "1942        1243    4703\n"
     ]
    }
   ],
   "source": [
    "uknn_get_scores(2, model, df_user_10k)"
   ]
  },
  {
   "cell_type": "code",
   "execution_count": 52,
   "metadata": {},
   "outputs": [
    {
     "name": "stdout",
     "output_type": "stream",
     "text": [
      "     artistID                 name\n",
      "0          89            Lady Gaga\n",
      "34        349   The Pussycat Dolls\n",
      "80        217  Death Cab for Cutie\n",
      "141      1243                 Mika\n"
     ]
    }
   ],
   "source": [
    "# quiero que de artists me saque el name de los artistas que me recomienda:\n",
    "\n",
    "artist_ids_interesantes = [17804, 217, 89, 349, 1243]\n",
    "\n",
    "# Filtrar el DataFrame para obtener solo las filas con los artistas de interés\n",
    "artistas_interesantes = artists[artists['artistID'].isin(artist_ids_interesantes)]\n",
    "\n",
    "# Mostrar los nombres de los artistas\n",
    "print(artistas_interesantes[['artistID', 'name']])\n"
   ]
  },
  {
   "cell_type": "markdown",
   "metadata": {},
   "source": [
    "### 2. ITEM BASED "
   ]
  },
  {
   "cell_type": "code",
   "execution_count": null,
   "metadata": {},
   "outputs": [],
   "source": [
    "df_GT100"
   ]
  },
  {
   "cell_type": "code",
   "execution_count": null,
   "metadata": {},
   "outputs": [],
   "source": [
    "import tqdm as notebook_tqdm\n",
    "import cornac\n",
    "from cornac.utils import cache\n",
    "from cornac.datasets import movielens\n",
    "from cornac.eval_methods import RatioSplit\n",
    "from cornac.models import UserKNN, ItemKNN"
   ]
  },
  {
   "cell_type": "code",
   "execution_count": null,
   "metadata": {},
   "outputs": [],
   "source": [
    "df_cornac = df_GT100[['userID', 'artistID', 'weight']]"
   ]
  },
  {
   "cell_type": "code",
   "execution_count": null,
   "metadata": {},
   "outputs": [],
   "source": [
    "type(df_cornac)"
   ]
  },
  {
   "cell_type": "code",
   "execution_count": null,
   "metadata": {},
   "outputs": [],
   "source": [
    "#put data_cornac into cornac format\n",
    "data_cornac = df_cornac.astype({'userID': 'int', 'artistID': 'int'}).to_records(index=False)\n",
    "data_cornac = list(data_cornac)"
   ]
  },
  {
   "cell_type": "code",
   "execution_count": null,
   "metadata": {},
   "outputs": [],
   "source": [
    "data_cornac"
   ]
  },
  {
   "cell_type": "code",
   "execution_count": null,
   "metadata": {},
   "outputs": [],
   "source": [
    "# ItemKNN methods\n",
    "K = 50  # number of nearest neighbors\n",
    "SEED = 29 \n",
    "VERBOSE =  False  \n",
    "iknn_cosine = ItemKNN(\n",
    "  k=K, similarity=\"cosine\", name=\"ItemKNN-Cosine\", verbose=VERBOSE\n",
    ")\n",
    "iknn_pearson = ItemKNN(\n",
    "  k=K, similarity=\"pearson\", name=\"ItemKNN-Pearson\", verbose=VERBOSE\n",
    ")\n",
    "iknn_pearson_mc = ItemKNN(\n",
    "  k=K, similarity=\"pearson\", mean_centered=True, name=\"ItemKNN-Pearson-MC\", verbose=VERBOSE\n",
    ")\n",
    "iknn_adjusted = ItemKNN(\n",
    "  k=K, similarity=\"cosine\", mean_centered=True, name=\"ItemKNN-AdjustedCosine\", verbose=VERBOSE\n",
    ")\n",
    "\n",
    "ratio_split = RatioSplit(data_cornac, test_size=0.1, seed=SEED, verbose=VERBOSE)\n",
    "cornac.Experiment(\n",
    "  eval_method=ratio_split, \n",
    "  models=[iknn_cosine, iknn_pearson, iknn_pearson_mc, iknn_adjusted],\n",
    "  metrics=[cornac.metrics.RMSE()],\n",
    ").run()"
   ]
  },
  {
   "cell_type": "markdown",
   "metadata": {},
   "source": [
    "Vemos que el que menor RMSE tiene es el coseno ajustado."
   ]
  },
  {
   "cell_type": "code",
   "execution_count": null,
   "metadata": {},
   "outputs": [],
   "source": [
    "def itemRecomendations(itemId):\n",
    "    name = df_GT100[df_GT100['artistID'] == itemId]['name'].values[0]\n",
    "    print(f\"Top 5 usuarios a los que recomendarles el artista {name}:\")\n",
    "    results = []\n",
    "    users = list(iknn_adjusted.uid_map.keys())\n",
    "    ids = list(iknn_adjusted.uid_map.values())\n",
    "    for i in range(len(iknn_adjusted.uid_map)-1):\n",
    "        results.append((users[i], iknn_adjusted.score(ids[i], iknn_adjusted.iid_map[itemId])))\n",
    "    # return the top 5 recommendations\n",
    "    results = sorted(results, key=lambda x: x[1], reverse=True)\n",
    "    return results[:5]"
   ]
  },
  {
   "cell_type": "code",
   "execution_count": null,
   "metadata": {},
   "outputs": [],
   "source": [
    "#Le introducimos un id de artista y obtenemos usuarios a los que les gustaría ese artista.\n",
    "itemRecomendations(51)"
   ]
  },
  {
   "cell_type": "code",
   "execution_count": null,
   "metadata": {},
   "outputs": [],
   "source": []
  },
  {
   "cell_type": "markdown",
   "metadata": {},
   "source": [
    "### 3. MODEL BASED: "
   ]
  },
  {
   "cell_type": "markdown",
   "metadata": {},
   "source": [
    "Para nuestro enfoque basado en modelos, utilizaremos la Descomposición en Valores Singulares (Singular Value Decomposition, SVD), que es una técnica de factorización de matrices.\n",
    "\n",
    "SVD se utiliza para descomponer una matriz en otras tres matrices: M = U*sigma*Vt.\n",
    "\n",
    "Se emplea para reducir el número de características de un conjunto de datos al disminuir la dimensión de la matriz."
   ]
  },
  {
   "cell_type": "code",
   "execution_count": null,
   "metadata": {},
   "outputs": [],
   "source": [
    "#Partiremos del conjunto creado antes df_GT100\n",
    "df_GT100.head()"
   ]
  },
  {
   "cell_type": "code",
   "execution_count": null,
   "metadata": {},
   "outputs": [],
   "source": [
    "#A partir de este, creamos la matriz de ratings R_df. Tendrá NaNs en los artistas que no han sido escuchados por un usuario\n",
    "#Habrá muchos NaNs ya que en sistemas de recomendación tratamos con matrices muy dispersas.\n",
    "R_df = df_GT100.pivot(index = 'userID', columns ='name', values = 'weight')\n",
    "R_df.head()"
   ]
  },
  {
   "cell_type": "code",
   "execution_count": null,
   "metadata": {},
   "outputs": [],
   "source": [
    "#Los NaNs los rellenamos con 0s\n",
    "R_df = R_df.fillna(0)\n",
    "R_df.head()"
   ]
  },
  {
   "cell_type": "code",
   "execution_count": null,
   "metadata": {},
   "outputs": [],
   "source": [
    "#Centraremos la matriz de ratings utilizando la media de cada usuario. \n",
    "R = R_df.to_numpy()\n",
    "\n",
    "user_ratings_mean = np.mean(R, axis=1)\n",
    "R_demeaned = R - user_ratings_mean.reshape(-1, 1)\n",
    "\n",
    "print(R.shape)\n",
    "print(np.count_nonzero(R))"
   ]
  },
  {
   "cell_type": "code",
   "execution_count": null,
   "metadata": {},
   "outputs": [],
   "source": [
    "from scipy.sparse.linalg import svds\n",
    "import math\n",
    "from numpy.linalg import matrix_rank\n"
   ]
  },
  {
   "cell_type": "code",
   "execution_count": null,
   "metadata": {},
   "outputs": [],
   "source": [
    "#Como tenemos 124 columnas, vamos a iterar para distintos valores de k y ver cómo se comporta el error.\n",
    "latents = [3, 10, 20, 30, 40, 50, 100, 120, 124]\n",
    "rmse_errors = [] \n",
    "for latent_dim in latents:\n",
    "    U, sigma, Vt = svds(R_demeaned, k=latent_dim)\n",
    "    #Matriz sigma: es una matriz diagonal de valores singulares\n",
    "    sigma = np.diag(sigma)\n",
    "    Rpred = np.dot(np.dot(U, sigma), Vt) + user_ratings_mean.reshape(-1, 1)\n",
    "    Rpred[Rpred < 0] = 0\n",
    "    Rpred[Rpred > 5] = 5\n",
    "    MSE = np.square(np.subtract(R, Rpred)).mean() \n",
    "    RMSE = math.sqrt(MSE)\n",
    "    rmse_errors.append(RMSE)"
   ]
  },
  {
   "cell_type": "code",
   "execution_count": null,
   "metadata": {},
   "outputs": [],
   "source": [
    "import seaborn as sns\n",
    "plt.xlabel('Latent Dimensions')\n",
    "plt.ylabel('RMSE')\n",
    "plt.title('SVD')\n",
    "plt.plot(latents, rmse_errors, 'o-')\n",
    "plt.show()"
   ]
  },
  {
   "cell_type": "markdown",
   "metadata": {},
   "source": [
    "Comentario: podemos ver que el error RMSE disminuye a medida que nos vamos acercando a L=rank_matriz "
   ]
  },
  {
   "cell_type": "code",
   "execution_count": null,
   "metadata": {},
   "outputs": [],
   "source": [
    "#En este caso escogemos 100 dimensiones latentes. \n",
    "latent_dim = 100\n",
    "\n",
    "U, sigma, Vt = svds(R_demeaned, k=latent_dim)\n",
    "\n",
    "sigma = np.diag(sigma)\n",
    "\n",
    "#Predicciones: le sumamos la media del usuario. \n",
    "all_user_predicted_ratings = np.dot(np.dot(U, sigma), Vt) + user_ratings_mean.reshape(-1, 1)\n",
    "\n",
    "#Creamos un dataframe con las predicciones\n",
    "preds_df = pd.DataFrame(all_user_predicted_ratings, columns = R_df.columns)\n",
    "preds_df.head()"
   ]
  },
  {
   "cell_type": "code",
   "execution_count": null,
   "metadata": {},
   "outputs": [],
   "source": [
    "#Función para recomendar artistas a un usuario\n",
    "\n",
    "def recommend_artist(predictions_df, userID, artists_df, original_ratings_df, num_recommendations=5):\n",
    "        \n",
    "        # Get and sort the user's predictions\n",
    "        user_row_number = userID - 1 # UserID starts at 1, not 0\n",
    "        sorted_user_predictions = predictions_df.iloc[user_row_number].sort_values(ascending=False)\n",
    "        \n",
    "        # Get the user's data and merge in the artist information.\n",
    "        user_data = original_ratings_df[original_ratings_df.userID == (userID)]\n",
    "        user_full = (user_data.merge(artists_df, how = 'left', left_on = 'artistID', right_on = 'artistID').\n",
    "                        sort_values(['weight'], ascending=False)\n",
    "                    )\n",
    "    \n",
    "        print('User {0} has already listened to {1} artists.'.format(userID, user_full.shape[0]))\n",
    "        print('Recommending the highest {0} predicted ratings artists not already listened to.'.format(num_recommendations))\n",
    "        \n",
    "        # Recommend the highest predicted rating artists that the user hasn't listened to yet.\n",
    "        recommendations = (artists_df[~artists_df['artistID'].isin(user_full['artistID'])].\n",
    "            merge(pd.DataFrame(sorted_user_predictions).reset_index(), how = 'left',\n",
    "                left_on = 'name',\n",
    "                right_on = 'name').\n",
    "            rename(columns = {user_row_number: 'Predictions'}).\n",
    "            sort_values('Predictions', ascending = False).\n",
    "                        iloc[:num_recommendations, :-1]\n",
    "                        )\n",
    "    \n",
    "        return user_full, recommendations"
   ]
  },
  {
   "cell_type": "code",
   "execution_count": null,
   "metadata": {},
   "outputs": [],
   "source": [
    "#Ejemplo de recomendación para el usuario 2\n",
    "already_listened, predictions = recommend_artist(preds_df, 2, artists, users, 5)\n",
    "df = already_listened[[\"artistID\"]].copy()\n",
    "#df.head(5)\n",
    "predictions.head(5)"
   ]
  },
  {
   "cell_type": "code",
   "execution_count": null,
   "metadata": {},
   "outputs": [],
   "source": [
    "#Evaluar el modelo\n",
    "from sklearn.metrics import mean_squared_error\n",
    "from math import sqrt\n",
    "\n",
    "def rmse(prediction, ground_truth):\n",
    "    #Lo que hacemos es comparar los nonzero items, que son los que tienen \"rating\" proporcionado por el usuario. \n",
    "    prediction = prediction[ground_truth.nonzero()].flatten() \n",
    "    ground_truth = ground_truth[ground_truth.nonzero()].flatten()\n",
    "    return sqrt(mean_squared_error(prediction, ground_truth))\n",
    "\n",
    "#Calculamos el error RMSE\n",
    "rmse_val = rmse(all_user_predicted_ratings, R)\n",
    "print(\"rmse\", rmse_val)\n",
    "\n",
    "#Calculamos el MAPE \n",
    "def mape(prediction, ground_truth):\n",
    "    prediction = prediction[ground_truth.nonzero()].flatten() \n",
    "    ground_truth = ground_truth[ground_truth.nonzero()].flatten()\n",
    "    return np.mean(np.abs((ground_truth - prediction) / ground_truth)) * 100\n",
    "\n",
    "mape_val = mape(all_user_predicted_ratings, R)\n",
    "print(\"mape\", mape_val)"
   ]
  },
  {
   "cell_type": "code",
   "execution_count": null,
   "metadata": {},
   "outputs": [],
   "source": [
    "df_GT100[\"weight\"].describe()"
   ]
  },
  {
   "cell_type": "markdown",
   "metadata": {},
   "source": [
    "Comentario: Obtuvimos un RMSE de 185.23 y un MAPE del 15.28%, lo que significa que nuestas predicciones distan en esa medida de los valores reales. "
   ]
  }
 ],
 "metadata": {
  "kernelspec": {
   "display_name": "envml3",
   "language": "python",
   "name": "python3"
  },
  "language_info": {
   "codemirror_mode": {
    "name": "ipython",
    "version": 3
   },
   "file_extension": ".py",
   "mimetype": "text/x-python",
   "name": "python",
   "nbconvert_exporter": "python",
   "pygments_lexer": "ipython3",
   "version": "3.11.5"
  }
 },
 "nbformat": 4,
 "nbformat_minor": 2
}
